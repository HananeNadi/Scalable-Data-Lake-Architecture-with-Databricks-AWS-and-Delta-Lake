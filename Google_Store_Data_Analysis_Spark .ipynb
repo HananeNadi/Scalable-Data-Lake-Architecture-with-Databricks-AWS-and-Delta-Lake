{
 "cells": [
  {
   "cell_type": "markdown",
   "metadata": {
    "application/vnd.databricks.v1+cell": {
     "cellMetadata": {},
     "inputWidgets": {},
     "nuid": "1bc95f33-96d9-47ed-b17a-7dc455f42102",
     "showTitle": false,
     "tableResultSettingsMap": {},
     "title": ""
    }
   },
   "source": [
    "**Load the row data (Bronze layer)**"
   ]
  },
  {
   "cell_type": "code",
   "execution_count": 0,
   "metadata": {
    "application/vnd.databricks.v1+cell": {
     "cellMetadata": {
      "byteLimit": 2048000,
      "rowLimit": 10000
     },
     "inputWidgets": {},
     "nuid": "ace00c48-d996-42ea-9be5-30be32e3f89e",
     "showTitle": false,
     "tableResultSettingsMap": {},
     "title": ""
    }
   },
   "outputs": [
    {
     "output_type": "stream",
     "name": "stdout",
     "output_type": "stream",
     "text": [
      "+--------------------+--------------+------+-------+----+-----------+----+-----+--------------+--------------------+------------------+------------------+------------+\n|                 App|      Category|Rating|Reviews|Size|   Installs|Type|Price|Content Rating|              Genres|      Last Updated|       Current Ver| Android Ver|\n+--------------------+--------------+------+-------+----+-----------+----+-----+--------------+--------------------+------------------+------------------+------------+\n|Photo Editor & Ca...|ART_AND_DESIGN|   4.1|    159| 19M|    10,000+|Free|    0|      Everyone|        Art & Design|   January 7, 2018|             1.0.0|4.0.3 and up|\n| Coloring book moana|ART_AND_DESIGN|   3.9|    967| 14M|   500,000+|Free|    0|      Everyone|Art & Design;Pret...|  January 15, 2018|             2.0.0|4.0.3 and up|\n|U Launcher Lite –...|ART_AND_DESIGN|   4.7|  87510|8.7M| 5,000,000+|Free|    0|      Everyone|        Art & Design|    August 1, 2018|             1.2.4|4.0.3 and up|\n|Sketch - Draw & P...|ART_AND_DESIGN|   4.5| 215644| 25M|50,000,000+|Free|    0|          Teen|        Art & Design|      June 8, 2018|Varies with device|  4.2 and up|\n|Pixel Draw - Numb...|ART_AND_DESIGN|   4.3|    967|2.8M|   100,000+|Free|    0|      Everyone|Art & Design;Crea...|     June 20, 2018|               1.1|  4.4 and up|\n|Paper flowers ins...|ART_AND_DESIGN|   4.4|    167|5.6M|    50,000+|Free|    0|      Everyone|        Art & Design|    March 26, 2017|               1.0|  2.3 and up|\n|Smoke Effect Phot...|ART_AND_DESIGN|   3.8|    178| 19M|    50,000+|Free|    0|      Everyone|        Art & Design|    April 26, 2018|               1.1|4.0.3 and up|\n|    Infinite Painter|ART_AND_DESIGN|   4.1|  36815| 29M| 1,000,000+|Free|    0|      Everyone|        Art & Design|     June 14, 2018|          6.1.61.1|  4.2 and up|\n|Garden Coloring Book|ART_AND_DESIGN|   4.4|  13791| 33M| 1,000,000+|Free|    0|      Everyone|        Art & Design|September 20, 2017|             2.9.2|  3.0 and up|\n|Kids Paint Free -...|ART_AND_DESIGN|   4.7|    121|3.1M|    10,000+|Free|    0|      Everyone|Art & Design;Crea...|      July 3, 2018|               2.8|4.0.3 and up|\n|Text on Photo - F...|ART_AND_DESIGN|   4.4|  13880| 28M| 1,000,000+|Free|    0|      Everyone|        Art & Design|  October 27, 2017|             1.0.4|  4.1 and up|\n|Name Art Photo Ed...|ART_AND_DESIGN|   4.4|   8788| 12M| 1,000,000+|Free|    0|      Everyone|        Art & Design|     July 31, 2018|            1.0.15|  4.0 and up|\n|Tattoo Name On My...|ART_AND_DESIGN|   4.2|  44829| 20M|10,000,000+|Free|    0|          Teen|        Art & Design|     April 2, 2018|               3.8|  4.1 and up|\n|Mandala Coloring ...|ART_AND_DESIGN|   4.6|   4326| 21M|   100,000+|Free|    0|      Everyone|        Art & Design|     June 26, 2018|             1.0.4|  4.4 and up|\n|3D Color Pixel by...|ART_AND_DESIGN|   4.4|   1518| 37M|   100,000+|Free|    0|      Everyone|        Art & Design|    August 3, 2018|             1.2.3|  2.3 and up|\n|Learn To Draw Kaw...|ART_AND_DESIGN|   3.2|     55|2.7M|     5,000+|Free|    0|      Everyone|        Art & Design|      June 6, 2018|               NaN|  4.2 and up|\n|Photo Designer - ...|ART_AND_DESIGN|   4.7|   3632|5.5M|   500,000+|Free|    0|      Everyone|        Art & Design|     July 31, 2018|               3.1|  4.1 and up|\n|350 Diy Room Deco...|ART_AND_DESIGN|   4.5|     27| 17M|    10,000+|Free|    0|      Everyone|        Art & Design|  November 7, 2017|               1.0|  2.3 and up|\n|FlipaClip - Carto...|ART_AND_DESIGN|   4.3| 194216| 39M| 5,000,000+|Free|    0|      Everyone|        Art & Design|    August 3, 2018|             2.2.5|4.0.3 and up|\n|        ibis Paint X|ART_AND_DESIGN|   4.6| 224399| 31M|10,000,000+|Free|    0|      Everyone|        Art & Design|     July 30, 2018|             5.5.4|  4.1 and up|\n+--------------------+--------------+------+-------+----+-----------+----+-----+--------------+--------------------+------------------+------------------+------------+\nonly showing top 20 rows\n\nDataFrame saved to /mnt/datalake for further preprocessing.\n"
     ]
    }
   ],
   "source": [
    "from pyspark.sql import SparkSession\n",
    "\n",
    "spark = SparkSession.builder \\\n",
    "    .appName(\"S3 CSV Loader\") \\\n",
    "    .getOrCreate()\n",
    "\n",
    "aws_access_key_id = ''\n",
    "aws_secret_access_key = '' \n",
    "\n",
    "\n",
    "spark.conf.set(\"fs.s3a.access.key\", aws_access_key_id)\n",
    "spark.conf.set(\"fs.s3a.secret.key\", aws_secret_access_key)\n",
    "spark.conf.set(\"fs.s3a.endpoint\", \"s3.amazonaws.com\")  \n",
    "\n",
    "df = spark.read.format(\"csv\") \\\n",
    "    .option(\"inferSchema\", \"true\") \\\n",
    "    .option(\"header\",  \"true\") \\\n",
    "    .option(\"sep\", \",\") \\\n",
    "    .load(\"s3a://layer1-bronze-bucket/\")\n",
    "\n",
    "\n",
    "df.show()\n",
    "\n",
    "\n",
    "output_path = \"/mnt/datalake\"\n",
    "df.write.mode(\"overwrite\").parquet(output_path)\n",
    "\n",
    "print(f\"DataFrame saved to {output_path} for further preprocessing.\")"
   ]
  },
  {
   "cell_type": "markdown",
   "metadata": {
    "application/vnd.databricks.v1+cell": {
     "cellMetadata": {},
     "inputWidgets": {},
     "nuid": "ef22f609-e832-445c-996a-334bc26f3e0c",
     "showTitle": false,
     "tableResultSettingsMap": {},
     "title": ""
    }
   },
   "source": [
    "**Normalizing the Data , clean it and  Store Proceesed code to Silver Bucket**"
   ]
  },
  {
   "cell_type": "code",
   "execution_count": 0,
   "metadata": {
    "application/vnd.databricks.v1+cell": {
     "cellMetadata": {
      "byteLimit": 2048000,
      "rowLimit": 10000
     },
     "inputWidgets": {},
     "nuid": "dab6dd3b-6b56-4e0a-ae33-7cc907a43a59",
     "showTitle": false,
     "tableResultSettingsMap": {},
     "title": ""
    }
   },
   "outputs": [
    {
     "output_type": "stream",
     "name": "stdout",
     "output_type": "stream",
     "text": [
      "Out[2]: 10841"
     ]
    }
   ],
   "source": [
    "df.count()"
   ]
  },
  {
   "cell_type": "code",
   "execution_count": 0,
   "metadata": {
    "application/vnd.databricks.v1+cell": {
     "cellMetadata": {
      "byteLimit": 2048000,
      "rowLimit": 10000
     },
     "inputWidgets": {},
     "nuid": "1acbbf0f-4ce6-472f-9707-ca89095b4589",
     "showTitle": false,
     "tableResultSettingsMap": {},
     "title": ""
    }
   },
   "outputs": [
    {
     "output_type": "stream",
     "name": "stdout",
     "output_type": "stream",
     "text": [
      "+--------------------+--------------+------+-------+----+--------+----+-----+--------------+------------+---------------+-----------+------------+\n|                 App|      Category|Rating|Reviews|Size|Installs|Type|Price|Content Rating|      Genres|   Last Updated|Current Ver| Android Ver|\n+--------------------+--------------+------+-------+----+--------+----+-----+--------------+------------+---------------+-----------+------------+\n|Photo Editor & Ca...|ART_AND_DESIGN|   4.1|    159| 19M| 10,000+|Free|    0|      Everyone|Art & Design|January 7, 2018|      1.0.0|4.0.3 and up|\n+--------------------+--------------+------+-------+----+--------+----+-----+--------------+------------+---------------+-----------+------------+\nonly showing top 1 row\n\n"
     ]
    }
   ],
   "source": [
    "df.show(1)"
   ]
  },
  {
   "cell_type": "code",
   "execution_count": 0,
   "metadata": {
    "application/vnd.databricks.v1+cell": {
     "cellMetadata": {
      "byteLimit": 2048000,
      "rowLimit": 10000
     },
     "inputWidgets": {},
     "nuid": "ff16bf95-bf8c-48b7-80be-2d697a52ad09",
     "showTitle": false,
     "tableResultSettingsMap": {},
     "title": ""
    }
   },
   "outputs": [
    {
     "output_type": "stream",
     "name": "stdout",
     "output_type": "stream",
     "text": [
      "root\n |-- App: string (nullable = true)\n |-- Category: string (nullable = true)\n |-- Rating: string (nullable = true)\n |-- Reviews: string (nullable = true)\n |-- Size: string (nullable = true)\n |-- Installs: string (nullable = true)\n |-- Type: string (nullable = true)\n |-- Price: string (nullable = true)\n |-- Content Rating: string (nullable = true)\n |-- Genres: string (nullable = true)\n |-- Last Updated: string (nullable = true)\n |-- Current Ver: string (nullable = true)\n |-- Android Ver: string (nullable = true)\n\n"
     ]
    }
   ],
   "source": [
    "df.printSchema()"
   ]
  },
  {
   "cell_type": "code",
   "execution_count": 0,
   "metadata": {
    "application/vnd.databricks.v1+cell": {
     "cellMetadata": {
      "byteLimit": 2048000,
      "rowLimit": 10000
     },
     "inputWidgets": {},
     "nuid": "34270df8-3029-4c9f-a657-3d8bdebc079f",
     "showTitle": false,
     "tableResultSettingsMap": {},
     "title": ""
    }
   },
   "outputs": [],
   "source": [
    "from pyspark.sql import functions as F\n",
    "from pyspark.sql.types import DoubleType, IntegerType\n",
    "\n",
    "df = df.drop(\"Size\", \"Content Rating\", \"Last Updated\", \"Current Ver\", \"Android Ver\")\n",
    "\n",
    "df = df.withColumn(\"Rating\", df[\"Rating\"].cast(IntegerType())) \\\n",
    "       .withColumn(\"Reviews\", df[\"Reviews\"].cast(IntegerType())) \\\n",
    "       .withColumn(\"Installs\", F.regexp_replace(df[\"Installs\"], \"[^0-9]\", \"\").cast(IntegerType())) \\\n",
    "       .withColumn(\"Price\", F.regexp_replace(df[\"Price\"], \"[$]\", \"\").cast(IntegerType()))\n",
    "\n",
    "transformed_df = df.na.drop().dropDuplicates()\n",
    "transformed_df.write.format(\"delta\").mode(\"overwrite\").save(\"s3a://layer2-silver-bucket/\")"
   ]
  },
  {
   "cell_type": "markdown",
   "metadata": {
    "application/vnd.databricks.v1+cell": {
     "cellMetadata": {},
     "inputWidgets": {},
     "nuid": "c4eed24b-3534-4d12-8715-5ad55ba7f21d",
     "showTitle": false,
     "tableResultSettingsMap": {},
     "title": ""
    }
   },
   "source": [
    "**Loading the Silver Data**  \n",
    "Aggregate the data and perform some business-level transformations.\n"
   ]
  },
  {
   "cell_type": "code",
   "execution_count": 0,
   "metadata": {
    "application/vnd.databricks.v1+cell": {
     "cellMetadata": {
      "byteLimit": 2048000,
      "rowLimit": 10000
     },
     "inputWidgets": {},
     "nuid": "42f07d72-2a91-499f-9a71-5e7f7fa618bd",
     "showTitle": false,
     "tableResultSettingsMap": {},
     "title": ""
    }
   },
   "outputs": [
    {
     "output_type": "stream",
     "name": "stdout",
     "output_type": "stream",
     "text": [
      "+--------------------+-------------------+------+-------+---------+----+-----+-----------------+\n|                 App|           Category|Rating|Reviews| Installs|Type|Price|           Genres|\n+--------------------+-------------------+------+-------+---------+----+-----+-----------------+\n|350 Diy Room Deco...|     ART_AND_DESIGN|     4|     27|    10000|Free|    0|     Art & Design|\n|  Google My Business|           BUSINESS|     4|  70991|  5000000|Free|    0|         Business|\n|Mail1Click - Secu...|      COMMUNICATION|     4|    255|    10000|Free|    0|    Communication|\n|SilverSingles: Th...|             DATING|     3|    149|    10000|Free|    0|           Dating|\n|A&E - Watch Full ...|      ENTERTAINMENT|     4|  29706|  1000000|Free|    0|    Entertainment|\n|  All Events in City|             EVENTS|     4|   3782|   100000|Free|    0|           Events|\n|       HungerStation|     FOOD_AND_DRINK|     3|  22513|  1000000|Free|    0|     Food & Drink|\n|Home Decor Showpi...|     HOUSE_AND_HOME|     4|    273|    50000|Free|    0|     House & Home|\n|           IHSS Help|            MEDICAL|     4|     10|     1000|Free|    0|          Medical|\n|Tapatalk - 100,00...|             SOCIAL|     4| 285820| 10000000|Free|    0|           Social|\n|PagesJaunes - loc...|   TRAVEL_AND_LOCAL|     3|  43935| 10000000|Free|    0|   Travel & Local|\n|3D Live Neon Weed...|    PERSONALIZATION|     4|   1724|   100000|Free|    0|  Personalization|\n|CM Launcher 3D - ...|    PERSONALIZATION|     4|6702776|100000000|Free|    0|  Personalization|\n|          HD Widgets|    PERSONALIZATION|     4|  58617|  1000000|Paid|    0|  Personalization|\n|Real City Car Driver|               GAME|     3| 413609| 10000000|Free|    0|           Racing|\n|               Bible|BOOKS_AND_REFERENCE|     4|2440695|100000000|Free|    0|Books & Reference|\n|Maps & GPS Naviga...|   TRAVEL_AND_LOCAL|     4|  15209|   100000|Paid|    8|   Travel & Local|\n|       How Do I Look|        PHOTOGRAPHY|     2|   3032|   500000|Free|    0|      Photography|\n| POF Free Dating App|             SOCIAL|     4|1175188| 50000000|Free|    0|           Social|\n|        Instachat 😜|             SOCIAL|     4|  80987|  5000000|Free|    0|           Social|\n+--------------------+-------------------+------+-------+---------+----+-----+-----------------+\nonly showing top 20 rows\n\n"
     ]
    }
   ],
   "source": [
    "silver_df = spark.read.format(\"delta\").load(\"s3a://layer2-silver-bucket/\")\n",
    "\n",
    "silver_df.show()\n"
   ]
  },
  {
   "cell_type": "code",
   "execution_count": 0,
   "metadata": {
    "application/vnd.databricks.v1+cell": {
     "cellMetadata": {
      "byteLimit": 2048000,
      "rowLimit": 10000
     },
     "inputWidgets": {},
     "nuid": "267f0693-be74-4589-bf73-c57b49904a48",
     "showTitle": false,
     "tableResultSettingsMap": {},
     "title": ""
    }
   },
   "outputs": [
    {
     "output_type": "stream",
     "name": "stdout",
     "output_type": "stream",
     "text": [
      "+-------------------+------------------+\n|           Category|        avg_rating|\n+-------------------+------------------+\n|             EVENTS| 4.044444444444444|\n|             SPORTS|3.8076923076923075|\n|             COMICS| 3.706896551724138|\n|            WEATHER|3.7866666666666666|\n|      VIDEO_PLAYERS|           3.60625|\n|  AUTO_AND_VEHICLES|3.7260273972602738|\n|          PARENTING|              3.82|\n|      ENTERTAINMENT|3.7387387387387387|\n|    PERSONALIZATION| 3.925806451612903|\n|   TRAVEL_AND_LOCAL| 3.707317073170732|\n| HEALTH_AND_FITNESS| 3.793103448275862|\n|BOOKS_AND_REFERENCE| 3.864406779661017|\n|     FOOD_AND_DRINK|3.7264150943396226|\n|        PHOTOGRAPHY|3.8092105263157894|\n|           BUSINESS|3.7111111111111112|\n|             FAMILY| 3.772409778812573|\n|           SHOPPING|3.8606965174129355|\n|     HOUSE_AND_HOME| 3.735294117647059|\n|               GAME| 3.863128491620112|\n|          EDUCATION| 3.953488372093023|\n+-------------------+------------------+\nonly showing top 20 rows\n\n"
     ]
    }
   ],
   "source": [
    "from pyspark.sql.functions import col, when, avg, sum, expr\n",
    "\n",
    "#Calculate Average Rating by Category\n",
    "avg_rating_by_category = silver_df.groupBy(\"Category\").agg(avg(\"Rating\").alias(\"avg_rating\"))\n",
    "avg_rating_by_category.show()"
   ]
  },
  {
   "cell_type": "code",
   "execution_count": 0,
   "metadata": {
    "application/vnd.databricks.v1+cell": {
     "cellMetadata": {
      "byteLimit": 2048000,
      "rowLimit": 10000
     },
     "inputWidgets": {},
     "nuid": "23cecfc9-d70b-430d-839f-0389ec11f607",
     "showTitle": false,
     "tableResultSettingsMap": {},
     "title": ""
    }
   },
   "outputs": [
    {
     "output_type": "stream",
     "name": "stdout",
     "output_type": "stream",
     "text": [
      "+-------------------+--------------+------------------+\n|           Category|total_installs|       avg_reviews|\n+-------------------+--------------+------------------+\n|             EVENTS|      15949410|3568.6666666666665|\n|             SPORTS|    1528531465|228398.97552447554|\n|             COMICS|      56036100| 58309.39655172414|\n|            WEATHER|     426096500|194729.26666666666|\n|      VIDEO_PLAYERS|    6221897200|        689873.075|\n|  AUTO_AND_VEHICLES|      53129800| 15940.13698630137|\n|          PARENTING|      31116110|          19072.18|\n|      ENTERTAINMENT|    2455660000|  428565.009009009|\n|    PERSONALIZATION|    2074352930|242557.54193548387|\n|   TRAVEL_AND_LOCAL|    6361859300|  271048.843902439|\n| HEALTH_AND_FITNESS|    1360006220|118170.71264367815|\n|BOOKS_AND_REFERENCE|    1916291655|123575.24293785311|\n|     FOOD_AND_DRINK|     257777750| 72370.33018867925|\n|        PHOTOGRAPHY|    9721243130|       672030.8125|\n|           BUSINESS|     863518120| 45769.27777777778|\n|             FAMILY|   10041130590| 230948.0325960419|\n|           SHOPPING|    2563331540| 471953.0696517413|\n|     HOUSE_AND_HOME|     125082000| 41093.98529411765|\n|               GAME|   31543862717|1318001.7486033519|\n|          EDUCATION|     533852000|179571.50387596898|\n+-------------------+--------------+------------------+\nonly showing top 20 rows\n\n"
     ]
    }
   ],
   "source": [
    "#Summarize Total Installs and Average Reviews per Category\n",
    "installs_reviews_summary = silver_df.groupBy(\"Category\").agg(\n",
    "    sum(\"Installs\").alias(\"total_installs\"),\n",
    "    avg(\"Reviews\").alias(\"avg_reviews\")\n",
    ")\n",
    "installs_reviews_summary.show()"
   ]
  },
  {
   "cell_type": "code",
   "execution_count": 0,
   "metadata": {
    "application/vnd.databricks.v1+cell": {
     "cellMetadata": {
      "byteLimit": 2048000,
      "rowLimit": 10000
     },
     "inputWidgets": {},
     "nuid": "09e8bcc8-30ee-474b-87f2-eca20b580939",
     "showTitle": false,
     "tableResultSettingsMap": {},
     "title": ""
    }
   },
   "outputs": [
    {
     "output_type": "stream",
     "name": "stdout",
     "output_type": "stream",
     "text": [
      "+--------------------+---------+-------------+\n|                 App| Installs|Install_Range|\n+--------------------+---------+-------------+\n|350 Diy Room Deco...|    10000|          Low|\n|  Google My Business|  5000000|         High|\n|Mail1Click - Secu...|    10000|          Low|\n|SilverSingles: Th...|    10000|          Low|\n|A&E - Watch Full ...|  1000000|         High|\n|  All Events in City|   100000|       Medium|\n|       HungerStation|  1000000|         High|\n|Home Decor Showpi...|    50000|       Medium|\n|           IHSS Help|     1000|          Low|\n|Tapatalk - 100,00...| 10000000|         High|\n|PagesJaunes - loc...| 10000000|         High|\n|3D Live Neon Weed...|   100000|       Medium|\n|CM Launcher 3D - ...|100000000|         High|\n|          HD Widgets|  1000000|         High|\n|Real City Car Driver| 10000000|         High|\n|               Bible|100000000|         High|\n|Maps & GPS Naviga...|   100000|       Medium|\n|       How Do I Look|   500000|         High|\n| POF Free Dating App| 50000000|         High|\n|        Instachat 😜|  5000000|         High|\n+--------------------+---------+-------------+\nonly showing top 20 rows\n\n"
     ]
    }
   ],
   "source": [
    "#Categorize Apps by Install Range\n",
    "silver_df = silver_df.withColumn(\"Install_Range\", when(col(\"Installs\") < 50000, \"Low\")\n",
    "                                      .when((col(\"Installs\") >= 50000) & (col(\"Installs\") < 500000), \"Medium\")\n",
    "                                      .otherwise(\"High\"))\n",
    "silver_df.select(\"App\", \"Installs\", \"Install_Range\").show()"
   ]
  },
  {
   "cell_type": "code",
   "execution_count": 0,
   "metadata": {
    "application/vnd.databricks.v1+cell": {
     "cellMetadata": {
      "byteLimit": 2048000,
      "rowLimit": 10000
     },
     "inputWidgets": {},
     "nuid": "47bca70b-3e5b-4caf-9b20-6f124a3578b6",
     "showTitle": false,
     "tableResultSettingsMap": {},
     "title": ""
    }
   },
   "outputs": [
    {
     "output_type": "stream",
     "name": "stdout",
     "output_type": "stream",
     "text": [
      "+--------------------+-----+--------------+\n|                 App|Price|Price_Category|\n+--------------------+-----+--------------+\n|350 Diy Room Deco...|    0|          Free|\n|  Google My Business|    0|          Free|\n|Mail1Click - Secu...|    0|          Free|\n|SilverSingles: Th...|    0|          Free|\n|A&E - Watch Full ...|    0|          Free|\n|  All Events in City|    0|          Free|\n|       HungerStation|    0|          Free|\n|Home Decor Showpi...|    0|          Free|\n|           IHSS Help|    0|          Free|\n|Tapatalk - 100,00...|    0|          Free|\n|PagesJaunes - loc...|    0|          Free|\n|3D Live Neon Weed...|    0|          Free|\n|CM Launcher 3D - ...|    0|          Free|\n|          HD Widgets|    0|          Free|\n|Real City Car Driver|    0|          Free|\n|               Bible|    0|          Free|\n|Maps & GPS Naviga...|    8|          Paid|\n|       How Do I Look|    0|          Free|\n| POF Free Dating App|    0|          Free|\n|        Instachat 😜|    0|          Free|\n+--------------------+-----+--------------+\nonly showing top 20 rows\n\n"
     ]
    }
   ],
   "source": [
    "# Create a Free/Paid indicator column\n",
    "silver_df = silver_df.withColumn(\"Price_Category\", when(col(\"Price\") == 0, \"Free\").otherwise(\"Paid\"))\n",
    "silver_df.select(\"App\", \"Price\", \"Price_Category\").show()"
   ]
  },
  {
   "cell_type": "markdown",
   "metadata": {
    "application/vnd.databricks.v1+cell": {
     "cellMetadata": {},
     "inputWidgets": {},
     "nuid": "c04f5cbc-4ffd-42fb-be05-b4311e69bd73",
     "showTitle": false,
     "tableResultSettingsMap": {},
     "title": ""
    }
   },
   "source": [
    "perform some analysis with SQL"
   ]
  },
  {
   "cell_type": "code",
   "execution_count": 0,
   "metadata": {
    "application/vnd.databricks.v1+cell": {
     "cellMetadata": {
      "byteLimit": 2048000,
      "rowLimit": 10000
     },
     "inputWidgets": {},
     "nuid": "a0c9bcf4-f263-439c-ba10-8c903f8f6480",
     "showTitle": false,
     "tableResultSettingsMap": {},
     "title": ""
    }
   },
   "outputs": [],
   "source": [
    "silver_df.createOrReplaceTempView(\"Google_store_table\")\n"
   ]
  },
  {
   "cell_type": "code",
   "execution_count": 0,
   "metadata": {
    "application/vnd.databricks.v1+cell": {
     "cellMetadata": {
      "byteLimit": 2048000,
      "rowLimit": 10000
     },
     "inputWidgets": {},
     "nuid": "632c4436-aa8c-4427-9c84-871a8306240d",
     "showTitle": false,
     "tableResultSettingsMap": {},
     "title": ""
    }
   },
   "outputs": [
    {
     "output_type": "stream",
     "name": "stdout",
     "output_type": "stream",
     "text": [
      "Out[14]: ['App',\n 'Category',\n 'Rating',\n 'Reviews',\n 'Installs',\n 'Type',\n 'Price',\n 'Genres',\n 'Install_Range',\n 'Price_Category']"
     ]
    }
   ],
   "source": [
    "silver_df.columns"
   ]
  },
  {
   "cell_type": "code",
   "execution_count": 0,
   "metadata": {
    "application/vnd.databricks.v1+cell": {
     "cellMetadata": {
      "byteLimit": 2048000,
      "rowLimit": 10000
     },
     "inputWidgets": {},
     "nuid": "6d3315c6-2214-4b2c-a831-2f1863a4bf27",
     "showTitle": false,
     "tableResultSettingsMap": {},
     "title": ""
    }
   },
   "outputs": [
    {
     "output_type": "stream",
     "name": "stdout",
     "output_type": "stream",
     "text": [
      "+--------------------+-------------+\n|                 App|total_reviews|\n+--------------------+-------------+\n|           Instagram|    199664676|\n|            Facebook|    156286514|\n|      Subway Surfers|    138606606|\n|  WhatsApp Messenger|    138228988|\n|      Clash of Clans|    134667058|\n|Messenger – Text ...|    113289425|\n|    Candy Crush Saga|    112134492|\n|         8 Ball Pool|     99386198|\n|        Clash Royale|     92530298|\n|            Snapchat|     68045010|\n+--------------------+-------------+\n\n"
     ]
    }
   ],
   "source": [
    "#Top 10 reviews given to the app\n",
    "top_10_reviews = spark.sql(\"\"\"\n",
    "SELECT \n",
    "    App,\n",
    "    SUM(Reviews) AS total_reviews \n",
    "FROM \n",
    "    Google_store_table \n",
    "GROUP BY \n",
    "    App\n",
    "ORDER BY \n",
    "    total_reviews DESC\n",
    "LIMIT 10\n",
    "\"\"\")\n",
    "\n",
    "top_10_reviews.show()\n"
   ]
  },
  {
   "cell_type": "code",
   "execution_count": 0,
   "metadata": {
    "application/vnd.databricks.v1+cell": {
     "cellMetadata": {
      "byteLimit": 2048000,
      "rowLimit": 10000
     },
     "inputWidgets": {},
     "nuid": "80580ede-99ed-43bd-9200-62596ea3441c",
     "showTitle": false,
     "tableResultSettingsMap": {},
     "title": ""
    }
   },
   "outputs": [
    {
     "output_type": "stream",
     "name": "stdout",
     "output_type": "stream",
     "text": [
      "+--------------------+-------------+--------------+--------------+\n|                 App|Install_Range|Price_Category|total_installs|\n+--------------------+-------------+--------------+--------------+\n|      Subway Surfers|         High|          Free|    5000000000|\n|       Google Photos|         High|          Free|    4000000000|\n|            Hangouts|         High|          Free|    4000000000|\n|           Instagram|         High|          Free|    3000000000|\n|Google Chrome: Fa...|         High|          Free|    3000000000|\n|         Google News|         High|          Free|    3000000000|\n|        Google Drive|         High|          Free|    3000000000|\n|Maps - Navigate &...|         High|          Free|    3000000000|\n|    Candy Crush Saga|         High|          Free|    2500000000|\n|        Temple Run 2|         High|          Free|    2500000000|\n+--------------------+-------------+--------------+--------------+\n\n"
     ]
    }
   ],
   "source": [
    "#Top 10 installed apps and distribution of type (free/paid)\n",
    "top_10_installs = spark.sql(\"\"\"\n",
    "SELECT \n",
    "    App,\n",
    "    Install_Range,\n",
    "    Price_Category,\n",
    "    SUM(Installs) AS total_installs\n",
    "FROM \n",
    "    Google_store_table\n",
    "WHERE \n",
    "    Install_Range = 'High'\n",
    "GROUP BY \n",
    "    App, Install_Range, Price_Category\n",
    "ORDER BY \n",
    "    total_installs DESC\n",
    "LIMIT 10\n",
    "\"\"\")\n",
    "\n",
    "\n",
    "top_10_installs.show()"
   ]
  },
  {
   "cell_type": "code",
   "execution_count": 0,
   "metadata": {
    "application/vnd.databricks.v1+cell": {
     "cellMetadata": {
      "byteLimit": 2048000,
      "rowLimit": 10000
     },
     "inputWidgets": {},
     "nuid": "e79063b9-0480-40d7-bd50-bd3e5cf8c0a1",
     "showTitle": false,
     "tableResultSettingsMap": {},
     "title": ""
    }
   },
   "outputs": [
    {
     "output_type": "stream",
     "name": "stdout",
     "output_type": "stream",
     "text": [
      "+------------------+--------------+\n|          Category|total_Installs|\n+------------------+--------------+\n|              GAME|   31543862717|\n|     COMMUNICATION|   24152241530|\n|            SOCIAL|   12513841475|\n|      PRODUCTIVITY|   12463070180|\n|             TOOLS|   11440724500|\n|            FAMILY|   10041130590|\n|       PHOTOGRAPHY|    9721243130|\n|  TRAVEL_AND_LOCAL|    6361859300|\n|     VIDEO_PLAYERS|    6221897200|\n|NEWS_AND_MAGAZINES|    5393110650|\n+------------------+--------------+\n\n"
     ]
    }
   ],
   "source": [
    "#Top 10 categories most installed \n",
    "top_10_categories = spark.sql(\"\"\"\n",
    "SELECT \n",
    "    Category,\n",
    "    SUM(Installs) AS total_Installs\n",
    "FROM \n",
    "    Google_store_table \n",
    "GROUP BY \n",
    "    Category\n",
    "ORDER BY \n",
    "    total_Installs DESC\n",
    "LIMIT 10\n",
    "\"\"\")\n",
    "\n",
    "top_10_categories.show()"
   ]
  },
  {
   "cell_type": "code",
   "execution_count": 0,
   "metadata": {
    "application/vnd.databricks.v1+cell": {
     "cellMetadata": {
      "byteLimit": 2048000,
      "rowLimit": 10000
     },
     "inputWidgets": {},
     "nuid": "8daeaf1b-dcf7-45b7-a9e4-dc71026a5874",
     "showTitle": false,
     "tableResultSettingsMap": {},
     "title": ""
    }
   },
   "outputs": [
    {
     "output_type": "stream",
     "name": "stdout",
     "output_type": "stream",
     "text": [
      "+--------------------+----------+\n|                 App|sum(Price)|\n+--------------------+----------+\n|I'm Rich - Trump ...|       400|\n|  I am rich(premium)|       399|\n|   I Am Rich Premium|       399|\n|           I am Rich|       399|\n|  I AM RICH PRO PLUS|       399|\n|          I am Rich!|       399|\n|      I am Rich Plus|       399|\n|         💎 I'm rich|       399|\n|I am rich (Most e...|       399|\n|           I am rich|       399|\n+--------------------+----------+\n\n"
     ]
    }
   ],
   "source": [
    "#Top paid apps \n",
    "top_Paid_apps = spark.sql(\"\"\"\n",
    "SELECT \n",
    "    App,\n",
    "    SUM(Price)\n",
    "FROM \n",
    "    Google_store_table\n",
    "WHERE \n",
    "    Price_Category = 'Paid'\n",
    "GROUP BY \n",
    "    App\n",
    "ORDER BY \n",
    "    SUM(Price) DESC\n",
    "LIMIT 10\n",
    "\"\"\")\n",
    "top_Paid_apps.show()"
   ]
  },
  {
   "cell_type": "code",
   "execution_count": 0,
   "metadata": {
    "application/vnd.databricks.v1+cell": {
     "cellMetadata": {
      "byteLimit": 2048000,
      "rowLimit": 10000
     },
     "inputWidgets": {},
     "nuid": "1b597eec-326a-4641-9d00-ab6a105ced80",
     "showTitle": false,
     "tableResultSettingsMap": {},
     "title": ""
    }
   },
   "outputs": [],
   "source": [
    "\n",
    "silver_df.write.format(\"delta\").mode(\"overwrite\").save(\"s3a://layer3-gold-bucket/\")\n"
   ]
  }
 ],
 "metadata": {
  "application/vnd.databricks.v1+notebook": {
   "dashboards": [],
   "environmentMetadata": null,
   "language": "python",
   "notebookMetadata": {
    "pythonIndentUnit": 2
   },
   "notebookName": "Google_Store_Data_Analysis_Spark (1) (1)",
   "widgets": {}
  }
 },
 "nbformat": 4,
 "nbformat_minor": 0
}
